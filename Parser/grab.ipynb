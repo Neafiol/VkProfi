{
 "cells": [
  {
   "cell_type": "code",
   "execution_count": 1,
   "metadata": {},
   "outputs": [],
   "source": [
    "import logging\n",
    "\n",
    "from grab import Grab\n",
    "\n",
    "g = Grab()"
   ]
  },
  {
   "cell_type": "code",
   "execution_count": 2,
   "metadata": {},
   "outputs": [
    {
     "name": "stdout",
     "output_type": "stream",
     "text": [
      "{'url': None, 'log_file': None, 'log_dir': 'log/grab', 'debug_post': False, 'debug_post_limit': 150, 'debug': False, 'verbose_logging': False, 'webdriver': 'firefox', 'selenium_wait': 1, 'proxy': None, 'proxy_type': None, 'proxy_userpwd': None, 'proxy_auto_change': True, 'method': None, 'post': None, 'multipart_post': None, 'headers': {}, 'common_headers': {'Accept': 'text/xml,application/xml,application/xhtml+xml,text/html;q=0.9,text/plain;q=0.8,image/png,*/*;q=0.3', 'Accept-Language': 'en-us,en;q=0.6', 'Accept-Charset': 'utf-8,windows-1251;q=0.7,*;q=0.7', 'Keep-Alive': '300'}, 'user_agent': None, 'user_agent_file': None, 'referer': None, 'reuse_referer': True, 'cookies': {}, 'reuse_cookies': True, 'cookiefile': None, 'timeout': 15, 'connect_timeout': 3, 'connection_reuse': True, 'nobody': False, 'body_maxsize': None, 'body_inmemory': True, 'body_storage_dir': None, 'body_storage_filename': None, 'body_storage_create_dir': False, 'reject_file_size': None, 'encoding': 'gzip', 'interface': None, 'follow_refresh': False, 'follow_location': True, 'redirect_limit': 10, 'userpwd': None, 'charset': 'utf-8', 'document_charset': None, 'content_type': 'html', 'fix_special_entities': True, 'lowercased_tree': False, 'strip_null_bytes': True, 'state': {}}\n"
     ]
    }
   ],
   "source": [
    "logging.basicConfig(level=logging.DEBUG)\n",
    "\n",
    "g.setup(log_dir='log/grab')\n",
    "url = u'https://geekbrains.ru/education'\n",
    "# a=g.search(u'яндекс'.encode('utf-8'), byte=True)\n",
    "\n",
    "print(g.config)"
   ]
  },
  {
   "cell_type": "code",
   "execution_count": null,
   "metadata": {},
   "outputs": [
    {
     "name": "stderr",
     "output_type": "stream",
     "text": [
      "DEBUG:grab.network:[01] GET https://geekbrains.ru/education\n"
     ]
    }
   ],
   "source": [
    "g.go(url)"
   ]
  },
  {
   "cell_type": "code",
   "execution_count": null,
   "metadata": {},
   "outputs": [],
   "source": [
    "print(g.xpath_text('//title'))"
   ]
  }
 ],
 "metadata": {
  "kernelspec": {
   "display_name": "Python 3",
   "language": "python",
   "name": "python3"
  },
  "language_info": {
   "codemirror_mode": {
    "name": "ipython",
    "version": 3
   },
   "file_extension": ".py",
   "mimetype": "text/x-python",
   "name": "python",
   "nbconvert_exporter": "python",
   "pygments_lexer": "ipython3",
   "version": "3.7.0"
  }
 },
 "nbformat": 4,
 "nbformat_minor": 2
}
