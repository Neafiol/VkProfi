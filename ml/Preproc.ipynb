{
 "cells": [
  {
   "cell_type": "code",
   "execution_count": 69,
   "metadata": {},
   "outputs": [],
   "source": [
    "import pandas as pd\n",
    "import matplotlib.pyplot as plt\n",
    "import sklearn\n",
    "import numpy as np\n",
    "\n",
    "from sklearn.externals import joblib\n"
   ]
  },
  {
   "cell_type": "code",
   "execution_count": 70,
   "metadata": {},
   "outputs": [],
   "source": [
    "x = pd.read_csv('data.csv')"
   ]
  },
  {
   "cell_type": "code",
   "execution_count": 71,
   "metadata": {},
   "outputs": [],
   "source": [
    "x.drop(['Отметка времени', '9)Что Вы видите на картинке? (необязательный вопрос)', '6)Что Вы видите на картинке? (необязательный вопрос)', 'Если У Вас где-то выбран ответ \"иное\", то напишите номер картинки и ваш ответ сюда'], inplace=True, axis=1)"
   ]
  },
  {
   "cell_type": "code",
   "execution_count": 72,
   "metadata": {},
   "outputs": [],
   "source": [
    "ids = []\n",
    "for i in x:\n",
    "    if i == 'Какая у Вас профессия, должность в Вашей компании?':\n",
    "        for k, j in enumerate(x[i]):\n",
    "            if j == 'Другое':\n",
    "                ids.append(k)\n",
    "x.drop(x.index[ids], inplace=True)"
   ]
  },
  {
   "cell_type": "raw",
   "metadata": {
    "collapsed": true
   },
   "source": [
    "Дроп ИНОГО в тесте Роршаха\n",
    "ids = []\n",
    "q = ['1)Что Вы видите на картинке?', '2)Что Вы видите на картинке?', '3)Что Вы видите на картинке?', '4)Что Вы видите на картинке?', '5)Что Вы видите на картинке?', '7)Что Вы видите на картинке', '8)Что Вы видите на картинке?', '10)Что Вы видите на картинке?']\n",
    "for i in x:\n",
    "    if i in q:\n",
    "        for k, j in enumerate(x[i]):\n",
    "            if j == 'Иное':\n",
    "                ids.append(k)\n",
    "x.drop(x.index[ids], inplace=True)"
   ]
  },
  {
   "cell_type": "code",
   "execution_count": 73,
   "metadata": {},
   "outputs": [
    {
     "data": {
      "text/plain": [
       "array(['BackEnd', 'Data Scientist', 'FrontEnd', 'Mobile', 'Product', 'Qa',\n",
       "       'ui'], dtype=object)"
      ]
     },
     "execution_count": 73,
     "metadata": {},
     "output_type": "execute_result"
    }
   ],
   "source": [
    "#Выведим топ проффесий\n",
    "# for u in pd.unique(np.ravel(y)):\n",
    "#     print (np.count_nonzero(np.ravel(y)==u),u )\n",
    "ar=['Game Designer','Software Architect','Security','Data Architect','Systemcoder','Evangelist','robot','Portable']\n",
    "\n",
    "x=x[~x['Какая у Вас профессия, должность в Вашей компании?'].isin(ar)]\n",
    "pd.unique(x['Какая у Вас профессия, должность в Вашей компании?'])"
   ]
  },
  {
   "cell_type": "code",
   "execution_count": 74,
   "metadata": {},
   "outputs": [],
   "source": [
    "y = pd.DataFrame(x['Какая у Вас профессия, должность в Вашей компании?'])\n",
    "Xi=x\n",
    "x.drop('Какая у Вас профессия, должность в Вашей компании?', inplace=True, axis=1)"
   ]
  },
  {
   "cell_type": "code",
   "execution_count": 75,
   "metadata": {
    "scrolled": true
   },
   "outputs": [],
   "source": [
    "# Label-encoding ответов\n",
    "from sklearn import preprocessing\n",
    "le = preprocessing.LabelEncoder()\n",
    "le.fit(np.ravel(y))\n",
    "y['le'] = le.transform(np.ravel(y))\n"
   ]
  },
  {
   "cell_type": "code",
   "execution_count": 76,
   "metadata": {},
   "outputs": [],
   "source": [
    "# x = pd.get_dummies(x)\n",
    "# print(data)\n",
    "for column in x[2:]:\n",
    "    m=pd.unique(x[column])\n",
    "    try:\n",
    "        le = preprocessing.LabelEncoder()\n",
    "        le.fit(m)\n",
    "        x[column]=le.transform(x[column])\n",
    "#       print\n",
    "    except:\n",
    "        1"
   ]
  },
  {
   "cell_type": "code",
   "execution_count": 77,
   "metadata": {},
   "outputs": [],
   "source": [
    "# y=pd.get_dummies(y)\n",
    "# del y[0]\n",
    "y=y['le']"
   ]
  },
  {
   "cell_type": "code",
   "execution_count": 78,
   "metadata": {},
   "outputs": [],
   "source": [
    "from sklearn.model_selection import train_test_split\n",
    "x_train, x_validation, y_train, y_validation = train_test_split(x, y, test_size=.15, random_state=1)"
   ]
  },
  {
   "cell_type": "code",
   "execution_count": 79,
   "metadata": {},
   "outputs": [
    {
     "data": {
      "text/plain": [
       "19"
      ]
     },
     "execution_count": 79,
     "metadata": {},
     "output_type": "execute_result"
    }
   ],
   "source": [
    "len(x_train.columns)"
   ]
  },
  {
   "cell_type": "code",
   "execution_count": 80,
   "metadata": {},
   "outputs": [
    {
     "data": {
      "text/plain": [
       "array([0, 0, 0, 0, 5, 0, 0, 1, 0, 0, 3, 0, 0, 1, 0, 0, 0, 3, 0, 1, 0, 1,\n",
       "       0, 0, 0, 1, 0, 5, 0, 5, 0], dtype=int64)"
      ]
     },
     "execution_count": 80,
     "metadata": {},
     "output_type": "execute_result"
    }
   ],
   "source": [
    "from sklearn.ensemble import RandomForestClassifier\n",
    "model = RandomForestClassifier(n_estimators =200,max_depth =5)\n",
    "model.fit(x_train,y_train)\n",
    "model.predict(x_validation)"
   ]
  },
  {
   "cell_type": "raw",
   "metadata": {},
   "source": [
    "from sklearn.tree import export_graphviz\n",
    "import os\n",
    "e=export_graphviz(model.estimators_[0],\n",
    "                feature_names=Xi.columns,\n",
    "                filled=True,\n",
    "                rounded=True)\n",
    "import pydot\n",
    "\n",
    "(graph,) = pydot.graph_from_dot_file('tree.dot')\n",
    "graph.write_png('tree.png')"
   ]
  },
  {
   "cell_type": "raw",
   "metadata": {},
   "source": [
    "from graphviz import Source\n",
    "from sklearn import tree\n",
    "Source( tree.export_graphviz(model.estimators_[0], out_file=None, feature_names=Xi.columns))"
   ]
  },
  {
   "cell_type": "code",
   "execution_count": 98,
   "metadata": {},
   "outputs": [
    {
     "data": {
      "image/png": "[encoded data removed]",
      "text/plain": [
       "<Figure size 1080x216 with 1 Axes>"
      ]
     },
     "metadata": {
      "needs_background": "light"
     },
     "output_type": "display_data"
    },
    {
     "data": {
      "text/html": [
       "<div>\n",
       "<style scoped>\n",
       "    .dataframe tbody tr th:only-of-type {\n",
       "        vertical-align: middle;\n",
       "    }\n",
       "\n",
       "    .dataframe tbody tr th {\n",
       "        vertical-align: top;\n",
       "    }\n",
       "\n",
       "    .dataframe thead th {\n",
       "        text-align: right;\n",
       "    }\n",
       "</style>\n",
       "<table border=\"1\" class=\"dataframe\">\n",
       "  <thead>\n",
       "    <tr style=\"text-align: right;\">\n",
       "      <th></th>\n",
       "      <th>0</th>\n",
       "    </tr>\n",
       "  </thead>\n",
       "  <tbody>\n",
       "    <tr>\n",
       "      <th>Product</th>\n",
       "      <td>0.925926</td>\n",
       "    </tr>\n",
       "    <tr>\n",
       "      <th>Mobile</th>\n",
       "      <td>0.900000</td>\n",
       "    </tr>\n",
       "    <tr>\n",
       "      <th>FrontEnd</th>\n",
       "      <td>0.606061</td>\n",
       "    </tr>\n",
       "    <tr>\n",
       "      <th>Data Scientist</th>\n",
       "      <td>0.766667</td>\n",
       "    </tr>\n",
       "    <tr>\n",
       "      <th>Qa</th>\n",
       "      <td>0.826087</td>\n",
       "    </tr>\n",
       "    <tr>\n",
       "      <th>BackEnd</th>\n",
       "      <td>0.818182</td>\n",
       "    </tr>\n",
       "  </tbody>\n",
       "</table>\n",
       "</div>"
      ],
      "text/plain": [
       "                       0\n",
       "Product         0.925926\n",
       "Mobile          0.900000\n",
       "FrontEnd        0.606061\n",
       "Data Scientist  0.766667\n",
       "Qa              0.826087\n",
       "BackEnd         0.818182"
      ]
     },
     "metadata": {},
     "output_type": "display_data"
    },
    {
     "data": {
      "text/plain": [
       "<Figure size 432x288 with 0 Axes>"
      ]
     },
     "metadata": {},
     "output_type": "display_data"
    }
   ],
   "source": [
    "prof=['Product', 'Mobile', 'FrontEnd', 'Data Scientist', 'Qa', 'BackEnd']\n",
    "res=[]\n",
    "i=0\n",
    "for p in prof:\n",
    "    dy=y[y==i]\n",
    "    d=x[x.index.isin(dy.index)]\n",
    "#     print(len(dy))\n",
    "    res.append((model.predict(d)==dy).mean())\n",
    "    i+=1\n",
    "    \n",
    "p = pd.DataFrame()\n",
    "p['name']=prof\n",
    "p['mean']=res\n",
    "\n",
    "p= pd.DataFrame(res,prof)\n",
    "p.plot(kind='bar', figsize=(15, 3))\n",
    "plt.show()\n",
    "plt.savefig('cuolaty.png', dpi=600)\n",
    "display(p)"
   ]
  },
  {
   "cell_type": "code",
   "execution_count": 97,
   "metadata": {},
   "outputs": [
    {
     "ename": "ModuleNotFoundError",
     "evalue": "No module named 'plotly'",
     "output_type": "error",
     "traceback": [
      "\u001b[1;31m---------------------------------------------------------------------------\u001b[0m",
      "\u001b[1;31mModuleNotFoundError\u001b[0m                       Traceback (most recent call last)",
      "\u001b[1;32m<ipython-input-97-82658c28f384>\u001b[0m in \u001b[0;36m<module>\u001b[1;34m()\u001b[0m\n\u001b[1;32m----> 1\u001b[1;33m \u001b[1;32mimport\u001b[0m \u001b[0mplotly\u001b[0m\u001b[1;33m.\u001b[0m\u001b[0mplotly\u001b[0m \u001b[1;32mas\u001b[0m \u001b[0mpy\u001b[0m\u001b[1;33m\u001b[0m\u001b[0m\n\u001b[0m\u001b[0;32m      2\u001b[0m \u001b[1;32mimport\u001b[0m \u001b[0mplotly\u001b[0m\u001b[1;33m.\u001b[0m\u001b[0mgraph_objs\u001b[0m \u001b[1;32mas\u001b[0m \u001b[0mgo\u001b[0m\u001b[1;33m\u001b[0m\u001b[0m\n\u001b[0;32m      3\u001b[0m \u001b[1;33m\u001b[0m\u001b[0m\n\u001b[0;32m      4\u001b[0m \u001b[0mx\u001b[0m \u001b[1;33m=\u001b[0m \u001b[1;33m[\u001b[0m\u001b[1;34m\"Apples\"\u001b[0m\u001b[1;33m,\u001b[0m\u001b[1;34m\"Apples\"\u001b[0m\u001b[1;33m,\u001b[0m\u001b[1;34m\"Apples\"\u001b[0m\u001b[1;33m,\u001b[0m\u001b[1;34m\"Oranges\"\u001b[0m\u001b[1;33m,\u001b[0m \u001b[1;34m\"Bananas\"\u001b[0m\u001b[1;33m]\u001b[0m\u001b[1;33m\u001b[0m\u001b[0m\n\u001b[0;32m      5\u001b[0m \u001b[0my\u001b[0m \u001b[1;33m=\u001b[0m \u001b[1;33m[\u001b[0m\u001b[1;34m\"5\"\u001b[0m\u001b[1;33m,\u001b[0m\u001b[1;34m\"10\"\u001b[0m\u001b[1;33m,\u001b[0m\u001b[1;34m\"3\"\u001b[0m\u001b[1;33m,\u001b[0m\u001b[1;34m\"10\"\u001b[0m\u001b[1;33m,\u001b[0m\u001b[1;34m\"5\"\u001b[0m\u001b[1;33m]\u001b[0m\u001b[1;33m\u001b[0m\u001b[0m\n",
      "\u001b[1;31mModuleNotFoundError\u001b[0m: No module named 'plotly'"
     ]
    }
   ],
   "source": [
    "import plotly.plotly as py\n",
    "import plotly.graph_objs as go\n",
    "\n",
    "x = [\"Apples\",\"Apples\",\"Apples\",\"Oranges\", \"Bananas\"]\n",
    "y = [\"5\",\"10\",\"3\",\"10\",\"5\"]\n",
    "\n",
    "data = [\n",
    "  go.Histogram(\n",
    "    histfunc = \"count\",\n",
    "    y = y,\n",
    "    x = x,\n",
    "    name = \"count\"\n",
    "  ),\n",
    "  go.Histogram(\n",
    "    histfunc = \"sum\",\n",
    "    y = y,\n",
    "    x = x,\n",
    "    name = \"sum\"\n",
    "  )\n",
    "]\n",
    "\n",
    "py.iplot(data, filename='binning function')"
   ]
  },
  {
   "cell_type": "code",
   "execution_count": 45,
   "metadata": {},
   "outputs": [
    {
     "data": {
      "image/png": "[encoded data removed]",
      "text/plain": [
       "<Figure size 1080x216 with 1 Axes>"
      ]
     },
     "metadata": {
      "needs_background": "light"
     },
     "output_type": "display_data"
    },
    {
     "data": {
      "text/html": [
       "<div>\n",
       "<style scoped>\n",
       "    .dataframe tbody tr th:only-of-type {\n",
       "        vertical-align: middle;\n",
       "    }\n",
       "\n",
       "    .dataframe tbody tr th {\n",
       "        vertical-align: top;\n",
       "    }\n",
       "\n",
       "    .dataframe thead th {\n",
       "        text-align: right;\n",
       "    }\n",
       "</style>\n",
       "<table border=\"1\" class=\"dataframe\">\n",
       "  <thead>\n",
       "    <tr style=\"text-align: right;\">\n",
       "      <th></th>\n",
       "      <th>importance</th>\n",
       "    </tr>\n",
       "    <tr>\n",
       "      <th>feature</th>\n",
       "      <th></th>\n",
       "    </tr>\n",
       "  </thead>\n",
       "  <tbody>\n",
       "    <tr>\n",
       "      <th>1)Что Вы видите на картинке?</th>\n",
       "      <td>0.085129</td>\n",
       "    </tr>\n",
       "    <tr>\n",
       "      <th>Что вам больше нравится?</th>\n",
       "      <td>0.083049</td>\n",
       "    </tr>\n",
       "    <tr>\n",
       "      <th>7)Что Вы видите на картинке</th>\n",
       "      <td>0.081520</td>\n",
       "    </tr>\n",
       "    <tr>\n",
       "      <th>10)Что Вы видите на картинке?</th>\n",
       "      <td>0.078602</td>\n",
       "    </tr>\n",
       "    <tr>\n",
       "      <th>2)Что Вы видите на картинке?</th>\n",
       "      <td>0.073939</td>\n",
       "    </tr>\n",
       "    <tr>\n",
       "      <th>4)Что Вы видите на картинке?</th>\n",
       "      <td>0.071934</td>\n",
       "    </tr>\n",
       "    <tr>\n",
       "      <th>Интересная работа или хорошая зарплата?</th>\n",
       "      <td>0.059456</td>\n",
       "    </tr>\n",
       "    <tr>\n",
       "      <th>Любите решать задачи по математике?</th>\n",
       "      <td>0.053144</td>\n",
       "    </tr>\n",
       "    <tr>\n",
       "      <th>5)Что Вы видите на картинке?</th>\n",
       "      <td>0.048711</td>\n",
       "    </tr>\n",
       "    <tr>\n",
       "      <th>Игры или социальные сети?</th>\n",
       "      <td>0.042715</td>\n",
       "    </tr>\n",
       "    <tr>\n",
       "      <th>8)Что Вы видите на картинке?</th>\n",
       "      <td>0.041675</td>\n",
       "    </tr>\n",
       "    <tr>\n",
       "      <th>3)Что Вы видите на картинке?</th>\n",
       "      <td>0.039114</td>\n",
       "    </tr>\n",
       "    <tr>\n",
       "      <th>Как вы отдыхаете?</th>\n",
       "      <td>0.039082</td>\n",
       "    </tr>\n",
       "    <tr>\n",
       "      <th>Стартап или крупная компания?</th>\n",
       "      <td>0.037823</td>\n",
       "    </tr>\n",
       "    <tr>\n",
       "      <th>Учить или учиться?</th>\n",
       "      <td>0.036338</td>\n",
       "    </tr>\n",
       "    <tr>\n",
       "      <th>Вы хорошо рисуете?</th>\n",
       "      <td>0.035025</td>\n",
       "    </tr>\n",
       "    <tr>\n",
       "      <th>Руководить или действовать по готовому плану?</th>\n",
       "      <td>0.033636</td>\n",
       "    </tr>\n",
       "    <tr>\n",
       "      <th>Красота или функциональность?</th>\n",
       "      <td>0.030351</td>\n",
       "    </tr>\n",
       "    <tr>\n",
       "      <th>Эгоизм или альтруизм?</th>\n",
       "      <td>0.028758</td>\n",
       "    </tr>\n",
       "  </tbody>\n",
       "</table>\n",
       "</div>"
      ],
      "text/plain": [
       "                                               importance\n",
       "feature                                                  \n",
       "1)Что Вы видите на картинке?                     0.085129\n",
       "Что вам больше нравится?                         0.083049\n",
       "7)Что Вы видите на картинке                      0.081520\n",
       "10)Что Вы видите на картинке?                    0.078602\n",
       "2)Что Вы видите на картинке?                     0.073939\n",
       "4)Что Вы видите на картинке?                     0.071934\n",
       "Интересная работа или хорошая зарплата?          0.059456\n",
       "Любите решать задачи по математике?              0.053144\n",
       "5)Что Вы видите на картинке?                     0.048711\n",
       "Игры или социальные сети?                        0.042715\n",
       "8)Что Вы видите на картинке?                     0.041675\n",
       "3)Что Вы видите на картинке?                     0.039114\n",
       "Как вы отдыхаете?                                0.039082\n",
       "Стартап или крупная компания?                    0.037823\n",
       "Учить или учиться?                               0.036338\n",
       "Вы хорошо рисуете?                               0.035025\n",
       "Руководить или действовать по готовому плану?    0.033636\n",
       "Красота или функциональность?                    0.030351\n",
       "Эгоизм или альтруизм?                            0.028758"
      ]
     },
     "metadata": {},
     "output_type": "display_data"
    }
   ],
   "source": [
    "pd.options.mode.chained_assignment = None  # default='warn'\n",
    "\n",
    "import numpy as np\n",
    "if hasattr(model, 'coef_'):\n",
    "    df_importances = sorted(list(zip(Xi.columns, model.coef_.ravel())), key=lambda tpl: tpl[1], reverse=True)\n",
    "else:\n",
    "    df_importances= sorted(list(zip(Xi.columns, np.array(model.feature_importances_).ravel())), key=lambda tpl: tpl[1], reverse=True)\n",
    "df_importances = pd.DataFrame(df_importances, columns=['feature', 'importance'])\n",
    "df_importances = df_importances.set_index('feature')\n",
    "df_importances.plot(kind='bar', figsize=(15, 3))\n",
    "plt.show()\n",
    "display(df_importances)"
   ]
  },
  {
   "cell_type": "code",
   "execution_count": 46,
   "metadata": {},
   "outputs": [
    {
     "data": {
      "text/plain": [
       "['model.pkl']"
      ]
     },
     "execution_count": 46,
     "metadata": {},
     "output_type": "execute_result"
    }
   ],
   "source": [
    "# Save to file in the current working directory\n",
    "joblib_file = \"model.pkl\"  \n",
    "joblib.dump(model, joblib_file)"
   ]
  },
  {
   "cell_type": "code",
   "execution_count": 52,
   "metadata": {},
   "outputs": [],
   "source": [
    "m = joblib.load(joblib_file)\n",
    "# m.predict(x_validation)"
   ]
  },
  {
   "cell_type": "code",
   "execution_count": 65,
   "metadata": {},
   "outputs": [
    {
     "data": {
      "text/plain": [
       "21"
      ]
     },
     "execution_count": 65,
     "metadata": {},
     "output_type": "execute_result"
    }
   ],
   "source": [
    "a=\"111112221111111111111\"\n",
    "len(a)"
   ]
  },
  {
   "cell_type": "code",
   "execution_count": 66,
   "metadata": {},
   "outputs": [
    {
     "name": "stdout",
     "output_type": "stream",
     "text": [
      "21\n"
     ]
    },
    {
     "data": {
      "text/plain": [
       "19"
      ]
     },
     "execution_count": 66,
     "metadata": {},
     "output_type": "execute_result"
    }
   ],
   "source": [
    "ar=[]\n",
    "print(len(a) )\n",
    "for i in range(len(a)):\n",
    "    ar.append(int(a[i]))\n",
    "v=np.array(ar) \n",
    "\n",
    "v=np.delete(v,[5,8])\n",
    "len(v)"
   ]
  },
  {
   "cell_type": "code",
   "execution_count": 67,
   "metadata": {},
   "outputs": [
    {
     "data": {
      "text/plain": [
       "5"
      ]
     },
     "execution_count": 67,
     "metadata": {},
     "output_type": "execute_result"
    }
   ],
   "source": [
    "m.predict([v])[0]"
   ]
  },
  {
   "cell_type": "code",
   "execution_count": null,
   "metadata": {},
   "outputs": [],
   "source": []
  }
 ],
 "metadata": {
  "kernelspec": {
   "display_name": "Python 3",
   "language": "python",
   "name": "python3"
  },
  "language_info": {
   "codemirror_mode": {
    "name": "ipython",
    "version": 3
   },
   "file_extension": ".py",
   "mimetype": "text/x-python",
   "name": "python",
   "nbconvert_exporter": "python",
   "pygments_lexer": "ipython3",
   "version": "3.7.0"
  }
 },
 "nbformat": 4,
 "nbformat_minor": 2
}
