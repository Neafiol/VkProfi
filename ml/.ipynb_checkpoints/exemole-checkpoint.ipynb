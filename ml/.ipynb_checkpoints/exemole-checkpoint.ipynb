{
 "cells": [
  {
   "cell_type": "code",
   "execution_count": 46,
   "metadata": {},
   "outputs": [],
   "source": [
    "import pandas as pd\n",
    "import matplotlib.pyplot as plt\n",
    "import sklearn\n",
    "import numpy as np"
   ]
  },
  {
   "cell_type": "code",
   "execution_count": 47,
   "metadata": {
    "collapsed": true
   },
   "outputs": [],
   "source": [
    "x = pd.read_csv('data/data.csv')"
   ]
  },
  {
   "cell_type": "code",
   "execution_count": 48,
   "metadata": {
    "collapsed": true
   },
   "outputs": [],
   "source": [
    "x.drop(['Отметка времени', '9)Что Вы видите на картинке? (необязательный вопрос)', '6)Что Вы видите на картинке? (необязательный вопрос)', 'Если У Вас где-то выбран ответ \"иное\", то напишите номер картинки и ваш ответ сюда'], inplace=True, axis=1)"
   ]
  },
  {
   "cell_type": "code",
   "execution_count": 49,
   "metadata": {
    "collapsed": true
   },
   "outputs": [],
   "source": [
    "ids = []\n",
    "for i in x:\n",
    "    if i == 'Какая у Вас профессия, должность в Вашей компании?':\n",
    "        for k, j in enumerate(x[i]):\n",
    "            if j == 'Другое':\n",
    "                ids.append(k)\n",
    "x.drop(x.index[ids], inplace=True)"
   ]
  },
  {
   "cell_type": "code",
   "execution_count": 50,
   "metadata": {
    "collapsed": true
   },
   "outputs": [],
   "source": [
    "# Дроп ИНОГО в тесте Роршаха\n",
    "# ids = []\n",
    "# q = ['1)Что Вы видите на картинке?', '2)Что Вы видите на картинке?', '3)Что Вы видите на картинке?', '4)Что Вы видите на картинке?', '5)Что Вы видите на картинке?', '7)Что Вы видите на картинке', '8)Что Вы видите на картинке?', '10)Что Вы видите на картинке?']\n",
    "# for i in x:\n",
    "#     if i in q:\n",
    "#         for k, j in enumerate(x[i]):\n",
    "#             if j == 'Иное':\n",
    "#                 ids.append(k)\n",
    "# x.drop(x.index[ids], inplace=True)"
   ]
  },
  {
   "cell_type": "code",
   "execution_count": 51,
   "metadata": {
    "collapsed": true
   },
   "outputs": [],
   "source": [
    "y = pd.DataFrame(x['Какая у Вас профессия, должность в Вашей компании?'])\n",
    "x.drop('Какая у Вас профессия, должность в Вашей компании?', inplace=True, axis=1)"
   ]
  },
  {
   "cell_type": "code",
   "execution_count": 52,
   "metadata": {
    "scrolled": true
   },
   "outputs": [],
   "source": [
    "# Label-encoding ответов\n",
    "\n",
    "from sklearn import preprocessing\n",
    "le = preprocessing.LabelEncoder()\n",
    "le.fit(np.ravel(y))\n",
    "y[0] = le.transform(np.ravel(y))"
   ]
  },
  {
   "cell_type": "code",
   "execution_count": 53,
   "metadata": {},
   "outputs": [],
   "source": [
    "x = pd.get_dummies(x)"
   ]
  },
  {
   "cell_type": "code",
   "execution_count": null,
   "metadata": {
    "collapsed": true
   },
   "outputs": [],
   "source": []
  }
 ],
 "metadata": {
  "kernelspec": {
   "display_name": "Python 3",
   "language": "python",
   "name": "python3"
  },
  "language_info": {
   "codemirror_mode": {
    "name": "ipython",
    "version": 3
   },
   "file_extension": ".py",
   "mimetype": "text/x-python",
   "name": "python",
   "nbconvert_exporter": "python",
   "pygments_lexer": "ipython3",
   "version": "3.7.0"
  }
 },
 "nbformat": 4,
 "nbformat_minor": 2
}
