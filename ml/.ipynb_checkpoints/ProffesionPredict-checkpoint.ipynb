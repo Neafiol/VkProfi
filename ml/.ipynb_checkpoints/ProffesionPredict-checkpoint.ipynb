{
 "cells": [
  {
   "cell_type": "markdown",
   "metadata": {},
   "source": [
    "# Обработка данных\n",
    "\n",
    "## Загрузка необходимых библиотек\n",
    "\n",
    "Для работы нам понадобятся две библиотеки:\n",
    "1. `pandas`: при помощи нее мы считаем из файла таблицу с данными\n",
    "2. `matplotlib`: библиотека для визуализации данных\n",
    "3. `sklearn`: библиотека инструментов для анализа данных и машинного обучения"
   ]
  },
  {
   "cell_type": "code",
   "execution_count": 1,
   "metadata": {},
   "outputs": [],
   "source": [
    "from IPython.display import display\n",
    "\n",
    "import pandas as pd\n",
    "import numpy as np\n",
    "import matplotlib.pyplot as plt\n",
    "from sklearn import preprocessing\n",
    "from sklearn.tree import DecisionTreeClassifier\n",
    "plt.style.use('ggplot')"
   ]
  },
  {
   "cell_type": "markdown",
   "metadata": {},
   "source": [
    "## Загрузка данных\n",
    "- x - обучающая выборка\n",
    "- y - ответы (победила ли команда Radiant в драке)"
   ]
  },
  {
   "cell_type": "code",
   "execution_count": 2,
   "metadata": {},
   "outputs": [],
   "source": [
    "k=3\n",
    "data = pd.read_csv('data.csv')\n",
    "data=data[data['Какая у Вас профессия, должность в Вашей компании?']!='Другое']\n",
    "cat=[]\n",
    "cat.append(['Product','Evangelist'])\n",
    "cat.append(['Data Architect','Data Scientist','Systemcoder','BackEnd','Software Architect'])\n",
    "cat.append(['FrontEnd','Game Designer','Qa','ui'])\n",
    "cat.append(['Mobile','Security','Portable','robot'])\n",
    "\n",
    "data=data[data['Какая у Вас профессия, должность в Вашей компании?'].isin(cat[k])]\n",
    "Y=data['Какая у Вас профессия, должность в Вашей компании?']"
   ]
  },
  {
   "cell_type": "code",
   "execution_count": 3,
   "metadata": {},
   "outputs": [],
   "source": [
    "# Y=pd.DataFrame(Y)"
   ]
  },
  {
   "cell_type": "markdown",
   "metadata": {},
   "source": [
    "\n",
    "#### Выделим 4 категории для предпроверки."
   ]
  },
  {
   "cell_type": "code",
   "execution_count": 4,
   "metadata": {},
   "outputs": [],
   "source": [
    "for i in range(len(cat[k]) ):\n",
    "    Y[Y == cat[k][i] ]=i"
   ]
  },
  {
   "cell_type": "code",
   "execution_count": 5,
   "metadata": {
    "scrolled": true
   },
   "outputs": [],
   "source": [
    "data = data.fillna('Другое')\n",
    "\n",
    "# print(data)\n",
    "\n",
    "del data['Какая у Вас профессия, должность в Вашей компании?']\n",
    "del data['6)Что Вы видите на картинке? (необязательный вопрос)']\n",
    "del data['9)Что Вы видите на картинке? (необязательный вопрос)']\n",
    "del data['Если У Вас где-то выбран ответ \"иное\", то напишите номер картинки и ваш ответ сюда']\n",
    "del data['Отметка времени']\n",
    "# data=pd.get_dummies(data) \n",
    "for column in data:\n",
    "    m=pd.unique(data[column])\n",
    "    try:\n",
    "        le = preprocessing.LabelEncoder()\n",
    "        le.fit(m)\n",
    "#         print(m)\n",
    "        data[column]=le.transform(data[column])\n",
    "    except:\n",
    "        1\n",
    "X=data"
   ]
  },
  {
   "cell_type": "code",
   "execution_count": 6,
   "metadata": {},
   "outputs": [],
   "source": [
    "from sklearn.model_selection import train_test_split\n",
    "x_train, x_validation, y_train, y_validation = train_test_split(X, Y, test_size=.15, random_state=1)"
   ]
  },
  {
   "cell_type": "raw",
   "metadata": {},
   "source": [
    "from sklearn.preprocessing import StandardScaler\n",
    "\n",
    "scaler = StandardScaler()\n",
    "x_train = scaler.fit_transform(x_train)\n",
    "x_validation = scaler.fit_transform(x_validation)"
   ]
  },
  {
   "cell_type": "code",
   "execution_count": 7,
   "metadata": {},
   "outputs": [
    {
     "name": "stdout",
     "output_type": "stream",
     "text": [
      "0:\tlearn: -1.3608680\ttotal: 78.9ms\tremaining: 15.7s\n",
      "1:\tlearn: -1.3480437\ttotal: 97.9ms\tremaining: 9.69s\n",
      "2:\tlearn: -1.3314476\ttotal: 114ms\tremaining: 7.5s\n",
      "3:\tlearn: -1.3165332\ttotal: 130ms\tremaining: 6.35s\n",
      "4:\tlearn: -1.3040944\ttotal: 145ms\tremaining: 5.64s\n",
      "5:\tlearn: -1.2876233\ttotal: 160ms\tremaining: 5.16s\n",
      "6:\tlearn: -1.2740318\ttotal: 172ms\tremaining: 4.73s\n",
      "7:\tlearn: -1.2606766\ttotal: 183ms\tremaining: 4.4s\n",
      "8:\tlearn: -1.2493592\ttotal: 198ms\tremaining: 4.21s\n",
      "9:\tlearn: -1.2382769\ttotal: 214ms\tremaining: 4.06s\n",
      "10:\tlearn: -1.2193069\ttotal: 228ms\tremaining: 3.92s\n",
      "11:\tlearn: -1.2046899\ttotal: 243ms\tremaining: 3.81s\n",
      "12:\tlearn: -1.1907489\ttotal: 258ms\tremaining: 3.71s\n",
      "13:\tlearn: -1.1801005\ttotal: 278ms\tremaining: 3.7s\n",
      "14:\tlearn: -1.1626831\ttotal: 297ms\tremaining: 3.66s\n",
      "15:\tlearn: -1.1515921\ttotal: 313ms\tremaining: 3.59s\n",
      "16:\tlearn: -1.1408536\ttotal: 328ms\tremaining: 3.53s\n",
      "17:\tlearn: -1.1313164\ttotal: 343ms\tremaining: 3.47s\n",
      "18:\tlearn: -1.1200942\ttotal: 352ms\tremaining: 3.35s\n",
      "19:\tlearn: -1.1102031\ttotal: 367ms\tremaining: 3.3s\n",
      "20:\tlearn: -1.0992319\ttotal: 382ms\tremaining: 3.25s\n",
      "21:\tlearn: -1.0890243\ttotal: 393ms\tremaining: 3.18s\n",
      "22:\tlearn: -1.0793410\ttotal: 405ms\tremaining: 3.12s\n",
      "23:\tlearn: -1.0668985\ttotal: 420ms\tremaining: 3.08s\n",
      "24:\tlearn: -1.0572703\ttotal: 435ms\tremaining: 3.04s\n",
      "25:\tlearn: -1.0503286\ttotal: 450ms\tremaining: 3.01s\n",
      "26:\tlearn: -1.0437466\ttotal: 465ms\tremaining: 2.98s\n",
      "27:\tlearn: -1.0336703\ttotal: 475ms\tremaining: 2.92s\n",
      "28:\tlearn: -1.0243085\ttotal: 496ms\tremaining: 2.93s\n",
      "29:\tlearn: -1.0169495\ttotal: 512ms\tremaining: 2.9s\n",
      "30:\tlearn: -1.0094278\ttotal: 527ms\tremaining: 2.87s\n",
      "31:\tlearn: -0.9993917\ttotal: 542ms\tremaining: 2.85s\n",
      "32:\tlearn: -0.9896825\ttotal: 557ms\tremaining: 2.82s\n",
      "33:\tlearn: -0.9785029\ttotal: 572ms\tremaining: 2.79s\n",
      "34:\tlearn: -0.9676900\ttotal: 587ms\tremaining: 2.77s\n",
      "35:\tlearn: -0.9606275\ttotal: 602ms\tremaining: 2.74s\n",
      "36:\tlearn: -0.9551424\ttotal: 617ms\tremaining: 2.72s\n",
      "37:\tlearn: -0.9484740\ttotal: 633ms\tremaining: 2.7s\n",
      "38:\tlearn: -0.9389943\ttotal: 642ms\tremaining: 2.65s\n",
      "39:\tlearn: -0.9318515\ttotal: 657ms\tremaining: 2.63s\n",
      "40:\tlearn: -0.9231384\ttotal: 680ms\tremaining: 2.64s\n",
      "41:\tlearn: -0.9184576\ttotal: 701ms\tremaining: 2.63s\n",
      "42:\tlearn: -0.9110840\ttotal: 720ms\tremaining: 2.63s\n",
      "43:\tlearn: -0.9014434\ttotal: 736ms\tremaining: 2.61s\n",
      "44:\tlearn: -0.8967139\ttotal: 751ms\tremaining: 2.59s\n",
      "45:\tlearn: -0.8887839\ttotal: 766ms\tremaining: 2.56s\n",
      "46:\tlearn: -0.8828402\ttotal: 781ms\tremaining: 2.54s\n",
      "47:\tlearn: -0.8727404\ttotal: 796ms\tremaining: 2.52s\n",
      "48:\tlearn: -0.8642250\ttotal: 811ms\tremaining: 2.5s\n",
      "49:\tlearn: -0.8580884\ttotal: 827ms\tremaining: 2.48s\n",
      "50:\tlearn: -0.8512273\ttotal: 839ms\tremaining: 2.45s\n",
      "51:\tlearn: -0.8443636\ttotal: 854ms\tremaining: 2.43s\n",
      "52:\tlearn: -0.8376241\ttotal: 875ms\tremaining: 2.43s\n",
      "53:\tlearn: -0.8307420\ttotal: 891ms\tremaining: 2.41s\n",
      "54:\tlearn: -0.8241506\ttotal: 907ms\tremaining: 2.39s\n",
      "55:\tlearn: -0.8175497\ttotal: 922ms\tremaining: 2.37s\n",
      "56:\tlearn: -0.8119036\ttotal: 937ms\tremaining: 2.35s\n",
      "57:\tlearn: -0.8071235\ttotal: 961ms\tremaining: 2.35s\n",
      "58:\tlearn: -0.8019787\ttotal: 981ms\tremaining: 2.34s\n",
      "59:\tlearn: -0.7963313\ttotal: 1s\tremaining: 2.33s\n",
      "60:\tlearn: -0.7902909\ttotal: 1.02s\tremaining: 2.33s\n",
      "61:\tlearn: -0.7837101\ttotal: 1.04s\tremaining: 2.31s\n",
      "62:\tlearn: -0.7754629\ttotal: 1.05s\tremaining: 2.29s\n",
      "63:\tlearn: -0.7690070\ttotal: 1.07s\tremaining: 2.29s\n",
      "64:\tlearn: -0.7625885\ttotal: 1.11s\tremaining: 2.3s\n",
      "65:\tlearn: -0.7565726\ttotal: 1.13s\tremaining: 2.29s\n",
      "66:\tlearn: -0.7497900\ttotal: 1.15s\tremaining: 2.29s\n",
      "67:\tlearn: -0.7435312\ttotal: 1.18s\tremaining: 2.29s\n",
      "68:\tlearn: -0.7387882\ttotal: 1.2s\tremaining: 2.28s\n",
      "69:\tlearn: -0.7331502\ttotal: 1.22s\tremaining: 2.26s\n",
      "70:\tlearn: -0.7270679\ttotal: 1.24s\tremaining: 2.25s\n",
      "71:\tlearn: -0.7216570\ttotal: 1.26s\tremaining: 2.24s\n",
      "72:\tlearn: -0.7158584\ttotal: 1.28s\tremaining: 2.22s\n",
      "73:\tlearn: -0.7094370\ttotal: 1.29s\tremaining: 2.2s\n",
      "74:\tlearn: -0.7037446\ttotal: 1.31s\tremaining: 2.19s\n",
      "75:\tlearn: -0.6985522\ttotal: 1.34s\tremaining: 2.18s\n",
      "76:\tlearn: -0.6935801\ttotal: 1.36s\tremaining: 2.17s\n",
      "77:\tlearn: -0.6884432\ttotal: 1.38s\tremaining: 2.16s\n",
      "78:\tlearn: -0.6827996\ttotal: 1.4s\tremaining: 2.15s\n",
      "79:\tlearn: -0.6790463\ttotal: 1.42s\tremaining: 2.13s\n",
      "80:\tlearn: -0.6735198\ttotal: 1.45s\tremaining: 2.12s\n",
      "81:\tlearn: -0.6702844\ttotal: 1.47s\tremaining: 2.11s\n",
      "82:\tlearn: -0.6656821\ttotal: 1.49s\tremaining: 2.1s\n",
      "83:\tlearn: -0.6613616\ttotal: 1.5s\tremaining: 2.07s\n",
      "84:\tlearn: -0.6552995\ttotal: 1.53s\tremaining: 2.06s\n",
      "85:\tlearn: -0.6513476\ttotal: 1.55s\tremaining: 2.05s\n",
      "86:\tlearn: -0.6467361\ttotal: 1.57s\tremaining: 2.04s\n",
      "87:\tlearn: -0.6422172\ttotal: 1.59s\tremaining: 2.02s\n",
      "88:\tlearn: -0.6387224\ttotal: 1.61s\tremaining: 2.01s\n",
      "89:\tlearn: -0.6334994\ttotal: 1.63s\tremaining: 2s\n",
      "90:\tlearn: -0.6290320\ttotal: 1.65s\tremaining: 1.98s\n",
      "91:\tlearn: -0.6253402\ttotal: 1.68s\tremaining: 1.97s\n",
      "92:\tlearn: -0.6223488\ttotal: 1.7s\tremaining: 1.95s\n",
      "93:\tlearn: -0.6179195\ttotal: 1.72s\tremaining: 1.94s\n",
      "94:\tlearn: -0.6119190\ttotal: 1.74s\tremaining: 1.92s\n",
      "95:\tlearn: -0.6071320\ttotal: 1.76s\tremaining: 1.91s\n",
      "96:\tlearn: -0.6021588\ttotal: 1.78s\tremaining: 1.89s\n",
      "97:\tlearn: -0.5981192\ttotal: 1.8s\tremaining: 1.87s\n",
      "98:\tlearn: -0.5941030\ttotal: 1.82s\tremaining: 1.85s\n",
      "99:\tlearn: -0.5920760\ttotal: 1.83s\tremaining: 1.83s\n",
      "100:\tlearn: -0.5880505\ttotal: 1.84s\tremaining: 1.8s\n",
      "101:\tlearn: -0.5839181\ttotal: 1.86s\tremaining: 1.79s\n",
      "102:\tlearn: -0.5796245\ttotal: 1.88s\tremaining: 1.77s\n",
      "103:\tlearn: -0.5766770\ttotal: 1.9s\tremaining: 1.75s\n",
      "104:\tlearn: -0.5724159\ttotal: 1.92s\tremaining: 1.74s\n",
      "105:\tlearn: -0.5693366\ttotal: 1.94s\tremaining: 1.72s\n",
      "106:\tlearn: -0.5655727\ttotal: 1.96s\tremaining: 1.71s\n",
      "107:\tlearn: -0.5606866\ttotal: 1.99s\tremaining: 1.69s\n",
      "108:\tlearn: -0.5568391\ttotal: 2.01s\tremaining: 1.68s\n",
      "109:\tlearn: -0.5544081\ttotal: 2.03s\tremaining: 1.66s\n",
      "110:\tlearn: -0.5516370\ttotal: 2.05s\tremaining: 1.64s\n",
      "111:\tlearn: -0.5484584\ttotal: 2.07s\tremaining: 1.63s\n",
      "112:\tlearn: -0.5456418\ttotal: 2.08s\tremaining: 1.6s\n",
      "113:\tlearn: -0.5421392\ttotal: 2.1s\tremaining: 1.59s\n",
      "114:\tlearn: -0.5385498\ttotal: 2.12s\tremaining: 1.57s\n",
      "115:\tlearn: -0.5341410\ttotal: 2.14s\tremaining: 1.55s\n",
      "116:\tlearn: -0.5310511\ttotal: 2.17s\tremaining: 1.54s\n",
      "117:\tlearn: -0.5279707\ttotal: 2.19s\tremaining: 1.52s\n",
      "118:\tlearn: -0.5254226\ttotal: 2.21s\tremaining: 1.51s\n",
      "119:\tlearn: -0.5226694\ttotal: 2.24s\tremaining: 1.49s\n",
      "120:\tlearn: -0.5191736\ttotal: 2.26s\tremaining: 1.48s\n",
      "121:\tlearn: -0.5163304\ttotal: 2.29s\tremaining: 1.46s\n",
      "122:\tlearn: -0.5136155\ttotal: 2.3s\tremaining: 1.44s\n",
      "123:\tlearn: -0.5104955\ttotal: 2.31s\tremaining: 1.42s\n",
      "124:\tlearn: -0.5067863\ttotal: 2.33s\tremaining: 1.4s\n",
      "125:\tlearn: -0.5043313\ttotal: 2.35s\tremaining: 1.38s\n",
      "126:\tlearn: -0.5020949\ttotal: 2.37s\tremaining: 1.36s\n",
      "127:\tlearn: -0.4997688\ttotal: 2.39s\tremaining: 1.34s\n",
      "128:\tlearn: -0.4959984\ttotal: 2.41s\tremaining: 1.32s\n",
      "129:\tlearn: -0.4932817\ttotal: 2.43s\tremaining: 1.31s\n",
      "130:\tlearn: -0.4910250\ttotal: 2.44s\tremaining: 1.29s\n",
      "131:\tlearn: -0.4881284\ttotal: 2.46s\tremaining: 1.27s\n",
      "132:\tlearn: -0.4852282\ttotal: 2.48s\tremaining: 1.25s\n",
      "133:\tlearn: -0.4822363\ttotal: 2.49s\tremaining: 1.23s\n",
      "134:\tlearn: -0.4794654\ttotal: 2.51s\tremaining: 1.21s\n",
      "135:\tlearn: -0.4765801\ttotal: 2.53s\tremaining: 1.19s\n",
      "136:\tlearn: -0.4732725\ttotal: 2.55s\tremaining: 1.17s\n",
      "137:\tlearn: -0.4703769\ttotal: 2.57s\tremaining: 1.16s\n",
      "138:\tlearn: -0.4663784\ttotal: 2.59s\tremaining: 1.14s\n",
      "139:\tlearn: -0.4635938\ttotal: 2.61s\tremaining: 1.12s\n",
      "140:\tlearn: -0.4605507\ttotal: 2.63s\tremaining: 1.1s\n",
      "141:\tlearn: -0.4574634\ttotal: 2.65s\tremaining: 1.08s\n",
      "142:\tlearn: -0.4545160\ttotal: 2.67s\tremaining: 1.06s\n",
      "143:\tlearn: -0.4516491\ttotal: 2.69s\tremaining: 1.05s\n",
      "144:\tlearn: -0.4490404\ttotal: 2.7s\tremaining: 1.02s\n",
      "145:\tlearn: -0.4456348\ttotal: 2.72s\tremaining: 1s\n",
      "146:\tlearn: -0.4427801\ttotal: 2.74s\tremaining: 987ms\n",
      "147:\tlearn: -0.4404503\ttotal: 2.75s\tremaining: 968ms\n",
      "148:\tlearn: -0.4377724\ttotal: 2.77s\tremaining: 950ms\n",
      "149:\tlearn: -0.4357054\ttotal: 2.79s\tremaining: 932ms\n",
      "150:\tlearn: -0.4334208\ttotal: 2.81s\tremaining: 914ms\n",
      "151:\tlearn: -0.4312767\ttotal: 2.83s\tremaining: 895ms\n",
      "152:\tlearn: -0.4292495\ttotal: 2.84s\tremaining: 873ms\n",
      "153:\tlearn: -0.4271242\ttotal: 2.86s\tremaining: 854ms\n",
      "154:\tlearn: -0.4242515\ttotal: 2.88s\tremaining: 837ms\n",
      "155:\tlearn: -0.4210440\ttotal: 2.9s\tremaining: 818ms\n",
      "156:\tlearn: -0.4189126\ttotal: 2.92s\tremaining: 800ms\n",
      "157:\tlearn: -0.4157435\ttotal: 2.94s\tremaining: 781ms\n",
      "158:\tlearn: -0.4141887\ttotal: 2.96s\tremaining: 763ms\n"
     ]
    },
    {
     "name": "stdout",
     "output_type": "stream",
     "text": [
      "159:\tlearn: -0.4120308\ttotal: 2.98s\tremaining: 745ms\n",
      "160:\tlearn: -0.4093623\ttotal: 3s\tremaining: 726ms\n",
      "161:\tlearn: -0.4070333\ttotal: 3.02s\tremaining: 708ms\n",
      "162:\tlearn: -0.4041615\ttotal: 3.04s\tremaining: 690ms\n",
      "163:\tlearn: -0.4010075\ttotal: 3.06s\tremaining: 671ms\n",
      "164:\tlearn: -0.3986720\ttotal: 3.08s\tremaining: 653ms\n",
      "165:\tlearn: -0.3964210\ttotal: 3.1s\tremaining: 634ms\n",
      "166:\tlearn: -0.3939473\ttotal: 3.11s\tremaining: 614ms\n",
      "167:\tlearn: -0.3918459\ttotal: 3.13s\tremaining: 596ms\n",
      "168:\tlearn: -0.3890780\ttotal: 3.15s\tremaining: 577ms\n",
      "169:\tlearn: -0.3867060\ttotal: 3.17s\tremaining: 559ms\n",
      "170:\tlearn: -0.3846718\ttotal: 3.19s\tremaining: 541ms\n",
      "171:\tlearn: -0.3817921\ttotal: 3.21s\tremaining: 522ms\n",
      "172:\tlearn: -0.3800906\ttotal: 3.23s\tremaining: 504ms\n",
      "173:\tlearn: -0.3781647\ttotal: 3.24s\tremaining: 485ms\n",
      "174:\tlearn: -0.3762661\ttotal: 3.26s\tremaining: 466ms\n",
      "175:\tlearn: -0.3744262\ttotal: 3.28s\tremaining: 447ms\n",
      "176:\tlearn: -0.3729714\ttotal: 3.3s\tremaining: 428ms\n",
      "177:\tlearn: -0.3710720\ttotal: 3.31s\tremaining: 410ms\n",
      "178:\tlearn: -0.3692504\ttotal: 3.33s\tremaining: 391ms\n",
      "179:\tlearn: -0.3670692\ttotal: 3.35s\tremaining: 372ms\n",
      "180:\tlearn: -0.3645425\ttotal: 3.36s\tremaining: 353ms\n",
      "181:\tlearn: -0.3624011\ttotal: 3.38s\tremaining: 334ms\n",
      "182:\tlearn: -0.3604384\ttotal: 3.4s\tremaining: 316ms\n",
      "183:\tlearn: -0.3585614\ttotal: 3.42s\tremaining: 297ms\n",
      "184:\tlearn: -0.3560737\ttotal: 3.44s\tremaining: 279ms\n",
      "185:\tlearn: -0.3537001\ttotal: 3.46s\tremaining: 260ms\n",
      "186:\tlearn: -0.3521973\ttotal: 3.48s\tremaining: 242ms\n",
      "187:\tlearn: -0.3503890\ttotal: 3.49s\tremaining: 223ms\n",
      "188:\tlearn: -0.3481533\ttotal: 3.51s\tremaining: 204ms\n",
      "189:\tlearn: -0.3458540\ttotal: 3.53s\tremaining: 186ms\n",
      "190:\tlearn: -0.3439085\ttotal: 3.55s\tremaining: 167ms\n",
      "191:\tlearn: -0.3419054\ttotal: 3.57s\tremaining: 149ms\n",
      "192:\tlearn: -0.3400659\ttotal: 3.59s\tremaining: 130ms\n",
      "193:\tlearn: -0.3378050\ttotal: 3.61s\tremaining: 112ms\n",
      "194:\tlearn: -0.3361561\ttotal: 3.63s\tremaining: 93ms\n",
      "195:\tlearn: -0.3342642\ttotal: 3.64s\tremaining: 74.4ms\n",
      "196:\tlearn: -0.3324174\ttotal: 3.66s\tremaining: 55.8ms\n",
      "197:\tlearn: -0.3308191\ttotal: 3.68s\tremaining: 37.2ms\n",
      "198:\tlearn: -0.3291968\ttotal: 3.7s\tremaining: 18.6ms\n",
      "199:\tlearn: -0.3272754\ttotal: 3.72s\tremaining: 0us\n"
     ]
    },
    {
     "data": {
      "text/plain": [
       "<catboost.core.CatBoostClassifier at 0x17a02b41710>"
      ]
     },
     "execution_count": 7,
     "metadata": {},
     "output_type": "execute_result"
    }
   ],
   "source": [
    "from catboost import Pool, CatBoostClassifier\n",
    "model = CatBoostClassifier(iterations=200, depth=5, loss_function='MultiClass')\n",
    "model.fit(x_train,y_train)"
   ]
  },
  {
   "cell_type": "code",
   "execution_count": 8,
   "metadata": {},
   "outputs": [
    {
     "data": {
      "text/plain": [
       "array([[1.],\n",
       "       [1.],\n",
       "       [1.],\n",
       "       [0.],\n",
       "       [1.],\n",
       "       [0.],\n",
       "       [0.],\n",
       "       [0.],\n",
       "       [2.],\n",
       "       [1.],\n",
       "       [1.],\n",
       "       [0.],\n",
       "       [0.],\n",
       "       [0.],\n",
       "       [0.]])"
      ]
     },
     "execution_count": 8,
     "metadata": {},
     "output_type": "execute_result"
    }
   ],
   "source": [
    "model.predict(x_train[:15])"
   ]
  },
  {
   "cell_type": "markdown",
   "metadata": {},
   "source": [
    "Список признаков, которые будут использованы в модели"
   ]
  },
  {
   "cell_type": "markdown",
   "metadata": {},
   "source": [
    "Важность признаков"
   ]
  },
  {
   "cell_type": "code",
   "execution_count": 9,
   "metadata": {},
   "outputs": [
    {
     "data": {
      "image/png": "[encoded data removed]",
      "text/plain": [
       "<Figure size 1080x216 with 1 Axes>"
      ]
     },
     "metadata": {
      "needs_background": "light"
     },
     "output_type": "display_data"
    },
    {
     "data": {
      "text/html": [
       "<div>\n",
       "<style scoped>\n",
       "    .dataframe tbody tr th:only-of-type {\n",
       "        vertical-align: middle;\n",
       "    }\n",
       "\n",
       "    .dataframe tbody tr th {\n",
       "        vertical-align: top;\n",
       "    }\n",
       "\n",
       "    .dataframe thead th {\n",
       "        text-align: right;\n",
       "    }\n",
       "</style>\n",
       "<table border=\"1\" class=\"dataframe\">\n",
       "  <thead>\n",
       "    <tr style=\"text-align: right;\">\n",
       "      <th></th>\n",
       "      <th>importance</th>\n",
       "    </tr>\n",
       "    <tr>\n",
       "      <th>feature</th>\n",
       "      <th></th>\n",
       "    </tr>\n",
       "  </thead>\n",
       "  <tbody>\n",
       "    <tr>\n",
       "      <th>Красота или функциональность?</th>\n",
       "      <td>27.578374</td>\n",
       "    </tr>\n",
       "    <tr>\n",
       "      <th>10)Что Вы видите на картинке?</th>\n",
       "      <td>8.461498</td>\n",
       "    </tr>\n",
       "    <tr>\n",
       "      <th>2)Что Вы видите на картинке?</th>\n",
       "      <td>8.074651</td>\n",
       "    </tr>\n",
       "    <tr>\n",
       "      <th>Интересная работа или хорошая зарплата?</th>\n",
       "      <td>6.852069</td>\n",
       "    </tr>\n",
       "    <tr>\n",
       "      <th>Что вам больше нравится?</th>\n",
       "      <td>5.059640</td>\n",
       "    </tr>\n",
       "    <tr>\n",
       "      <th>Как вы отдыхаете?</th>\n",
       "      <td>4.662727</td>\n",
       "    </tr>\n",
       "    <tr>\n",
       "      <th>5)Что Вы видите на картинке?</th>\n",
       "      <td>4.504966</td>\n",
       "    </tr>\n",
       "    <tr>\n",
       "      <th>4)Что Вы видите на картинке?</th>\n",
       "      <td>4.404577</td>\n",
       "    </tr>\n",
       "    <tr>\n",
       "      <th>1)Что Вы видите на картинке?</th>\n",
       "      <td>4.237241</td>\n",
       "    </tr>\n",
       "    <tr>\n",
       "      <th>Стартап или крупная компания?</th>\n",
       "      <td>4.205034</td>\n",
       "    </tr>\n",
       "    <tr>\n",
       "      <th>7)Что Вы видите на картинке</th>\n",
       "      <td>4.121284</td>\n",
       "    </tr>\n",
       "    <tr>\n",
       "      <th>Вы хорошо рисуете?</th>\n",
       "      <td>3.750276</td>\n",
       "    </tr>\n",
       "    <tr>\n",
       "      <th>Учить или учиться?</th>\n",
       "      <td>3.116343</td>\n",
       "    </tr>\n",
       "    <tr>\n",
       "      <th>3)Что Вы видите на картинке?</th>\n",
       "      <td>2.357788</td>\n",
       "    </tr>\n",
       "    <tr>\n",
       "      <th>Игры или социальные сети?</th>\n",
       "      <td>2.155804</td>\n",
       "    </tr>\n",
       "    <tr>\n",
       "      <th>Эгоизм или альтруизм?</th>\n",
       "      <td>1.964039</td>\n",
       "    </tr>\n",
       "    <tr>\n",
       "      <th>Руководить или действовать по готовому плану?</th>\n",
       "      <td>1.928835</td>\n",
       "    </tr>\n",
       "    <tr>\n",
       "      <th>8)Что Вы видите на картинке?</th>\n",
       "      <td>1.320077</td>\n",
       "    </tr>\n",
       "    <tr>\n",
       "      <th>Любите решать задачи по математике?</th>\n",
       "      <td>1.244776</td>\n",
       "    </tr>\n",
       "  </tbody>\n",
       "</table>\n",
       "</div>"
      ],
      "text/plain": [
       "                                               importance\n",
       "feature                                                  \n",
       "Красота или функциональность?                   27.578374\n",
       "10)Что Вы видите на картинке?                    8.461498\n",
       "2)Что Вы видите на картинке?                     8.074651\n",
       "Интересная работа или хорошая зарплата?          6.852069\n",
       "Что вам больше нравится?                         5.059640\n",
       "Как вы отдыхаете?                                4.662727\n",
       "5)Что Вы видите на картинке?                     4.504966\n",
       "4)Что Вы видите на картинке?                     4.404577\n",
       "1)Что Вы видите на картинке?                     4.237241\n",
       "Стартап или крупная компания?                    4.205034\n",
       "7)Что Вы видите на картинке                      4.121284\n",
       "Вы хорошо рисуете?                               3.750276\n",
       "Учить или учиться?                               3.116343\n",
       "3)Что Вы видите на картинке?                     2.357788\n",
       "Игры или социальные сети?                        2.155804\n",
       "Эгоизм или альтруизм?                            1.964039\n",
       "Руководить или действовать по готовому плану?    1.928835\n",
       "8)Что Вы видите на картинке?                     1.320077\n",
       "Любите решать задачи по математике?              1.244776"
      ]
     },
     "metadata": {},
     "output_type": "display_data"
    }
   ],
   "source": [
    "pd.options.mode.chained_assignment = None  # default='warn'\n",
    "\n",
    "import numpy as np\n",
    "if hasattr(model, 'coef_'):\n",
    "    df_importances = sorted(list(zip(X.columns, model.coef_.ravel())), key=lambda tpl: tpl[1], reverse=True)\n",
    "else:\n",
    "    df_importances= sorted(list(zip(X.columns, np.array(model.feature_importances_).ravel())), key=lambda tpl: tpl[1], reverse=True)\n",
    "df_importances = pd.DataFrame(df_importances, columns=['feature', 'importance'])\n",
    "df_importances = df_importances.set_index('feature')\n",
    "df_importances.plot(kind='bar', figsize=(15, 3))\n",
    "plt.show()\n",
    "display(df_importances)"
   ]
  },
  {
   "cell_type": "code",
   "execution_count": 10,
   "metadata": {},
   "outputs": [
    {
     "data": {
      "text/plain": [
       "['m4.pkl']"
      ]
     },
     "execution_count": 10,
     "metadata": {},
     "output_type": "execute_result"
    }
   ],
   "source": [
    "import joblib\n",
    "joblib_file = \"m\"+str(k+1)+\".pkl\"  \n",
    "joblib.dump(model, joblib_file)"
   ]
  },
  {
   "cell_type": "markdown",
   "metadata": {},
   "source": [
    "Конец"
   ]
  }
 ],
 "metadata": {
  "kernelspec": {
   "display_name": "Python 3",
   "language": "python",
   "name": "python3"
  },
  "language_info": {
   "codemirror_mode": {
    "name": "ipython",
    "version": 3
   },
   "file_extension": ".py",
   "mimetype": "text/x-python",
   "name": "python",
   "nbconvert_exporter": "python",
   "pygments_lexer": "ipython3",
   "version": "3.7.0"
  }
 },
 "nbformat": 4,
 "nbformat_minor": 2
}
