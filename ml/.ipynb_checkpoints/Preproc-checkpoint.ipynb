{
 "cells": [
  {
   "cell_type": "code",
   "execution_count": 1,
   "metadata": {},
   "outputs": [],
   "source": [
    "import pandas as pd\n",
    "import matplotlib.pyplot as plt\n",
    "import sklearn\n",
    "import numpy as np"
   ]
  },
  {
   "cell_type": "code",
   "execution_count": 2,
   "metadata": {},
   "outputs": [],
   "source": [
    "x = pd.read_csv('data.csv')"
   ]
  },
  {
   "cell_type": "code",
   "execution_count": 3,
   "metadata": {},
   "outputs": [],
   "source": [
    "x.drop(['Отметка времени', '9)Что Вы видите на картинке? (необязательный вопрос)', '6)Что Вы видите на картинке? (необязательный вопрос)', 'Если У Вас где-то выбран ответ \"иное\", то напишите номер картинки и ваш ответ сюда'], inplace=True, axis=1)"
   ]
  },
  {
   "cell_type": "code",
   "execution_count": 4,
   "metadata": {},
   "outputs": [],
   "source": [
    "ids = []\n",
    "for i in x:\n",
    "    if i == 'Какая у Вас профессия, должность в Вашей компании?':\n",
    "        for k, j in enumerate(x[i]):\n",
    "            if j == 'Другое':\n",
    "                ids.append(k)\n",
    "x.drop(x.index[ids], inplace=True)"
   ]
  },
  {
   "cell_type": "code",
   "execution_count": 5,
   "metadata": {},
   "outputs": [],
   "source": [
    "# Дроп ИНОГО в тесте Роршаха\n",
    "# ids = []\n",
    "# q = ['1)Что Вы видите на картинке?', '2)Что Вы видите на картинке?', '3)Что Вы видите на картинке?', '4)Что Вы видите на картинке?', '5)Что Вы видите на картинке?', '7)Что Вы видите на картинке', '8)Что Вы видите на картинке?', '10)Что Вы видите на картинке?']\n",
    "# for i in x:\n",
    "#     if i in q:\n",
    "#         for k, j in enumerate(x[i]):\n",
    "#             if j == 'Иное':\n",
    "#                 ids.append(k)\n",
    "# x.drop(x.index[ids], inplace=True)"
   ]
  },
  {
   "cell_type": "code",
   "execution_count": 6,
   "metadata": {},
   "outputs": [],
   "source": [
    "#Выведим топ проффесий\n",
    "# for u in pd.unique(np.ravel(y)):\n",
    "#     print (np.count_nonzero(np.ravel(y)==u),u )\n",
    "ar=['Game Designer','Software Architect','Security','Data Architect','Systemcoder','Evangelist','robot','Portable']\n",
    "\n",
    "x=x[~x['Какая у Вас профессия, должность в Вашей компании?'].isin(ar)]"
   ]
  },
  {
   "cell_type": "code",
   "execution_count": 7,
   "metadata": {},
   "outputs": [],
   "source": [
    "y = pd.DataFrame(x['Какая у Вас профессия, должность в Вашей компании?'])\n",
    "x.drop('Какая у Вас профессия, должность в Вашей компании?', inplace=True, axis=1)"
   ]
  },
  {
   "cell_type": "code",
   "execution_count": null,
   "metadata": {
    "scrolled": true
   },
   "outputs": [],
   "source": [
    "# Label-encoding ответов\n",
    "from sklearn import preprocessing\n",
    "le = preprocessing.LabelEncoder()\n",
    "le.fit(np.ravel(y))\n",
    "y['le'] = le.transform(np.ravel(y))\n",
    "\n",
    "pd.unique(x['Какая у Вас профессия, должность в Вашей компании?'])"
   ]
  },
  {
   "cell_type": "code",
   "execution_count": null,
   "metadata": {},
   "outputs": [
    {
     "name": "stdout",
     "output_type": "stream",
     "text": [
      "['Моль' 'Летучая мышь' 'Бабочки' 'Иное' 'Лицо животного']\n"
     ]
    }
   ],
   "source": [
    "# x = pd.get_dummies(x)\n",
    "# print(data)\n",
    "for column in x[2:]:\n",
    "    m=pd.unique(x[column])\n",
    "    try:\n",
    "        le = preprocessing.LabelEncoder()\n",
    "        le.fit(m)\n",
    "        print(m)\n",
    "        a=input()\n",
    "        x[column]=le.transform(x[column])\n",
    "#         print(m)\n",
    "    except:\n",
    "        1\n",
    "x"
   ]
  },
  {
   "cell_type": "code",
   "execution_count": null,
   "metadata": {},
   "outputs": [],
   "source": [
    "# y=pd.get_dummies(y)\n",
    "# del y[0]\n",
    "y=y['le']"
   ]
  },
  {
   "cell_type": "code",
   "execution_count": null,
   "metadata": {},
   "outputs": [],
   "source": [
    "from sklearn.model_selection import train_test_split\n",
    "x_train, x_validation, y_train, y_validation = train_test_split(x, y, test_size=.15, random_state=1)"
   ]
  },
  {
   "cell_type": "code",
   "execution_count": null,
   "metadata": {},
   "outputs": [],
   "source": [
    "from sklearn.ensemble import RandomForestClassifier\n",
    "model = RandomForestClassifier(n_estimators =200,max_depth =4)\n",
    "model.fit(x_train,y_train)\n",
    "model.predict(x_validation)"
   ]
  },
  {
   "cell_type": "code",
   "execution_count": null,
   "metadata": {},
   "outputs": [],
   "source": [
    "from sklearn.externals import joblib\n",
    "\n",
    "# Save to file in the current working directory\n",
    "joblib_file = \"model.pkl\"  \n",
    "joblib.dump(model, joblib_file)"
   ]
  },
  {
   "cell_type": "code",
   "execution_count": null,
   "metadata": {},
   "outputs": [],
   "source": [
    "m = joblib.load(joblib_file)\n",
    "m.predict(x_validation)"
   ]
  },
  {
   "cell_type": "code",
   "execution_count": null,
   "metadata": {},
   "outputs": [],
   "source": []
  }
 ],
 "metadata": {
  "kernelspec": {
   "display_name": "Python 3",
   "language": "python",
   "name": "python3"
  },
  "language_info": {
   "codemirror_mode": {
    "name": "ipython",
    "version": 3
   },
   "file_extension": ".py",
   "mimetype": "text/x-python",
   "name": "python",
   "nbconvert_exporter": "python",
   "pygments_lexer": "ipython3",
   "version": "3.7.0"
  }
 },
 "nbformat": 4,
 "nbformat_minor": 2
}
