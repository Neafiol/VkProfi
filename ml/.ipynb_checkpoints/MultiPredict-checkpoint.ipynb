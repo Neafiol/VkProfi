{
 "cells": [
  {
   "cell_type": "markdown",
   "metadata": {},
   "source": [
    "# Обработка данных\n",
    "\n",
    "## Загрузка необходимых библиотек\n",
    "\n",
    "Для работы нам понадобятся две библиотеки:\n",
    "1. `pandas`: при помощи нее мы считаем из файла таблицу с данными\n",
    "2. `matplotlib`: библиотека для визуализации данных\n",
    "3. `sklearn`: библиотека инструментов для анализа данных и машинного обучения"
   ]
  },
  {
   "cell_type": "code",
   "execution_count": 1,
   "metadata": {},
   "outputs": [],
   "source": [
    "from IPython.display import display\n",
    "\n",
    "import pandas as pd\n",
    "import numpy as np\n",
    "import matplotlib.pyplot as plt\n",
    "from sklearn import preprocessing\n",
    "from sklearn.tree import DecisionTreeClassifier\n",
    "plt.style.use('ggplot')"
   ]
  },
  {
   "cell_type": "markdown",
   "metadata": {},
   "source": [
    "## Загрузка данных\n",
    "- x - обучающая выборка\n",
    "- y - ответы (победила ли команда Radiant в драке)"
   ]
  },
  {
   "cell_type": "code",
   "execution_count": 2,
   "metadata": {},
   "outputs": [],
   "source": [
    "data = pd.read_csv('data.csv')\n",
    "data=data[data['Какая у Вас профессия, должность в Вашей компании?']!='Другое']\n",
    "Y=data['Какая у Вас профессия, должность в Вашей компании?']\n",
    "Y=Y[Y!='Другое']"
   ]
  },
  {
   "cell_type": "code",
   "execution_count": 3,
   "metadata": {},
   "outputs": [
    {
     "data": {
      "image/png": "[encoded data removed]",
      "text/plain": [
       "<Figure size 432x288 with 1 Axes>"
      ]
     },
     "metadata": {
      "needs_background": "light"
     },
     "output_type": "display_data"
    },
    {
     "data": {
      "text/plain": [
       "array(['BackEnd', 'Data Architect', 'Data Scientist', 'Evangelist',\n",
       "       'FrontEnd', 'Game Designer', 'Mobile', 'Portable', 'Product', 'Qa',\n",
       "       'robot', 'Security', 'Software Architect', 'Systemcoder', 'ui'],\n",
       "      dtype=object)"
      ]
     },
     "execution_count": 3,
     "metadata": {},
     "output_type": "execute_result"
    }
   ],
   "source": [
    "p=[]\n",
    "dt=data['Какая у Вас профессия, должность в Вашей компании?']\n",
    "for i in np.unique(dt):\n",
    "    p .append( (dt == i).sum() )\n",
    "p=np.array(p)\n",
    "label=pd.unique(dt)\n",
    "plt.bar(label,p)\n",
    "plt.xticks(rotation = 80)\n",
    "\n",
    "plt.show()\n",
    "pd.unique(dt)"
   ]
  },
  {
   "cell_type": "markdown",
   "metadata": {},
   "source": [
    "#### Выделим 4 категории для предпроверки."
   ]
  },
  {
   "cell_type": "code",
   "execution_count": 4,
   "metadata": {},
   "outputs": [
    {
     "data": {
      "image/png": "[encoded data removed]",
      "text/plain": [
       "<Figure size 432x288 with 1 Axes>"
      ]
     },
     "metadata": {
      "needs_background": "light"
     },
     "output_type": "display_data"
    }
   ],
   "source": [
    "cat=[]\n",
    "cat.append(['Product','Evangelist'])\n",
    "cat.append(['Data Architect','Data Scientist','Systemcoder','BackEnd','Software Architect'])\n",
    "cat.append(['FrontEnd','Game Designer','Qa','ui'])\n",
    "cat.append(['Mobile','Security','Portable','robot'])\n",
    "\n",
    "i=0\n",
    "for ca in cat:\n",
    "    i+=1\n",
    "    Y[Y.isin(ca)]=i\n",
    "\n",
    "#Взглянем на категории\n",
    "p=[]\n",
    "for i in pd.unique(Y):\n",
    "    p .append( (Y == i).sum() )\n",
    "plt.bar(['1','2','3','4'],p)\n",
    "plt.xticks()\n",
    "plt.show()\n",
    "Y=pd.get_dummies(Y) "
   ]
  },
  {
   "cell_type": "code",
   "execution_count": 5,
   "metadata": {
    "scrolled": true
   },
   "outputs": [],
   "source": [
    "data = data.fillna('Другое')\n",
    "\n",
    "# print(data)\n",
    "\n",
    "del data['Какая у Вас профессия, должность в Вашей компании?']\n",
    "del data['6)Что Вы видите на картинке? (необязательный вопрос)']\n",
    "del data['9)Что Вы видите на картинке? (необязательный вопрос)']\n",
    "del data['Если У Вас где-то выбран ответ \"иное\", то напишите номер картинки и ваш ответ сюда']\n",
    "del data['Отметка времени']\n",
    "data=pd.get_dummies(data) \n",
    "# for column in data:\n",
    "#     m=pd.unique(data[column])\n",
    "#     try:\n",
    "#         le = preprocessing.LabelEncoder()\n",
    "#         le.fit(m)\n",
    "# #         print(m)\n",
    "#         data[column]=le.transform(data[column])\n",
    "#     except:\n",
    "#         1\n",
    "X=data"
   ]
  },
  {
   "cell_type": "code",
   "execution_count": 6,
   "metadata": {},
   "outputs": [],
   "source": [
    "from sklearn.model_selection import train_test_split\n",
    "x_train, x_validation, y_train, y_validation = train_test_split(X, Y, test_size=.15, random_state=1)"
   ]
  },
  {
   "cell_type": "code",
   "execution_count": 26,
   "metadata": {},
   "outputs": [
    {
     "data": {
      "text/plain": [
       "Index(['1)Что Вы видите на картинке?_Бабочки',\n",
       "       '1)Что Вы видите на картинке?_Иное',\n",
       "       '1)Что Вы видите на картинке?_Летучая мышь',\n",
       "       '1)Что Вы видите на картинке?_Лицо животного',\n",
       "       '1)Что Вы видите на картинке?_Моль',\n",
       "       '2)Что Вы видите на картинке?_Иное',\n",
       "       '2)Что Вы видите на картинке?_Медведь',\n",
       "       '2)Что Вы видите на картинке?_Молящийся Человек',\n",
       "       '2)Что Вы видите на картинке?_Слон',\n",
       "       '2)Что Вы видите на картинке?_Собака',\n",
       "       '2)Что Вы видите на картинке?_Человек, который смотрит на себя в зеркало',\n",
       "       '2)Что Вы видите на картинке?_Что-то, связанное с сексуальными вещами',\n",
       "       '3)Что Вы видите на картинке?_Два разных человека, взаимодействующих друг с другом',\n",
       "       '3)Что Вы видите на картинке?_Зеркало с одним человеком',\n",
       "       '3)Что Вы видите на картинке?_Иное',\n",
       "       '4)Что Вы видите на картинке?_Большое животное',\n",
       "       '4)Что Вы видите на картинке?_Иное',\n",
       "       '4)Что Вы видите на картинке?_Монстр',\n",
       "       '4)Что Вы видите на картинке?_Шкура животного',\n",
       "       '4)Что Вы видите на картинке?_Шкура монстра',\n",
       "       '5)Что Вы видите на картинке?_Бабочки',\n",
       "       '5)Что Вы видите на картинке?_Иное',\n",
       "       '5)Что Вы видите на картинке?_Летучая мышь',\n",
       "       '5)Что Вы видите на картинке?_Лицо животного',\n",
       "       '5)Что Вы видите на картинке?_Моль',\n",
       "       '7)Что Вы видите на картинке_Головы детей',\n",
       "       '7)Что Вы видите на картинке_Головы женщин',\n",
       "       '7)Что Вы видите на картинке_Иное',\n",
       "       '7)Что Вы видите на картинке_Поцелуй',\n",
       "       '8)Что Вы видите на картинке?_Бабочка',\n",
       "       '8)Что Вы видите на картинке?_Иное',\n",
       "       '8)Что Вы видите на картинке?_Моль',\n",
       "       '8)Что Вы видите на картинке?_Четырехлапое животное',\n",
       "       '10)Что Вы видите на картинке?_Гусениц',\n",
       "       '10)Что Вы видите на картинке?_Змеи',\n",
       "       '10)Что Вы видите на картинке?_Иное',\n",
       "       '10)Что Вы видите на картинке?_Инок',\n",
       "       '10)Что Вы видите на картинке?_Краб',\n",
       "       '10)Что Вы видите на картинке?_Лобстер',\n",
       "       '10)Что Вы видите на картинке?_Морда',\n",
       "       '10)Что Вы видите на картинке?_Паук',\n",
       "       'Любите решать задачи по математике?_Очень!',\n",
       "       'Любите решать задачи по математике?_Умею, но не люблю',\n",
       "       'Любите решать задачи по математике?_Я гуманитарий',\n",
       "       'Стартап или крупная компания?_Главное, чтобы было интересно',\n",
       "       'Стартап или крупная компания?_Свобода и стартап',\n",
       "       'Стартап или крупная компания?_Стабильность и серьезная компания',\n",
       "       'Что вам больше нравится?_Работать над проектами',\n",
       "       'Что вам больше нравится?_Решать задачи',\n",
       "       'Что вам больше нравится?_Создавать новые продукты',\n",
       "       'Вы хорошо рисуете?_Профессиональный художник',\n",
       "       'Вы хорошо рисуете?_Рисую для себя',\n",
       "       'Вы хорошо рисуете?_Совсем не умею рисовать',\n",
       "       'Красота или функциональность?_Важно и то, и другое',\n",
       "       'Красота или функциональность?_Красота',\n",
       "       'Красота или функциональность?_Функциональность',\n",
       "       'Учить или учиться?_Люблю учить!',\n",
       "       'Учить или учиться?_Учиться всю жизнь!',\n",
       "       'Учить или учиться?_Хватит учебы, хочу работать',\n",
       "       'Игры или социальные сети?_Естественно, соцсети!',\n",
       "       'Игры или социальные сети?_Конечно, игры!',\n",
       "       'Игры или социальные сети?_Работа важнее!',\n",
       "       'Руководить или действовать по готовому плану?_Будем все решать вместе',\n",
       "       'Руководить или действовать по готовому плану?_Пусть четко скажут, что делать',\n",
       "       'Руководить или действовать по готовому плану?_Хочу быть начальником',\n",
       "       'Эгоизм или альтруизм?_Главное в жизни - друзья!',\n",
       "       'Эгоизм или альтруизм?_Думаю о себе, но не забываю о других',\n",
       "       'Эгоизм или альтруизм?_Каждый сам за себя',\n",
       "       'Как вы отдыхаете?_В шумной веселой компании',\n",
       "       'Как вы отдыхаете?_За компьютером',\n",
       "       'Как вы отдыхаете?_С книжкой в одиночестве',\n",
       "       'Интересная работа или хорошая зарплата?_Без денег никуда',\n",
       "       'Интересная работа или хорошая зарплата?_И то, и то, и побольше',\n",
       "       'Интересная работа или хорошая зарплата?_Хочу заниматься интересным делом'],\n",
       "      dtype='object')"
      ]
     },
     "execution_count": 26,
     "metadata": {},
     "output_type": "execute_result"
    }
   ],
   "source": [
    "x_train.columns"
   ]
  },
  {
   "cell_type": "raw",
   "metadata": {},
   "source": [
    "from sklearn.preprocessing import StandardScaler\n",
    "\n",
    "scaler = StandardScaler()\n",
    "x_train = scaler.fit_transform(x_train)\n",
    "x_validation = scaler.fit_transform(x_validation)"
   ]
  },
  {
   "cell_type": "code",
   "execution_count": 8,
   "metadata": {},
   "outputs": [
    {
     "data": {
      "text/plain": [
       "MultiOutputRegressor(estimator=LinearRegression(copy_X=True, fit_intercept=True, n_jobs=1, normalize=False),\n",
       "           n_jobs=1)"
      ]
     },
     "execution_count": 8,
     "metadata": {},
     "output_type": "execute_result"
    }
   ],
   "source": [
    "from catboost import Pool, CatBoostClassifier\n",
    "from sklearn.multioutput import MultiOutputRegressor\n",
    "from sklearn.datasets import make_regression\n",
    "from sklearn.linear_model import *\n",
    "\n",
    "lasso = LinearRegression()\n",
    "model = MultiOutputRegressor(lasso)\n",
    "model.fit(x_train,y_train)"
   ]
  },
  {
   "cell_type": "code",
   "execution_count": 9,
   "metadata": {},
   "outputs": [
    {
     "data": {
      "text/plain": [
       "array([1.99807099, 0.57239169, 0.99290644, 1.34170984])"
      ]
     },
     "execution_count": 9,
     "metadata": {},
     "output_type": "execute_result"
    }
   ],
   "source": [
    "def column(matrix, i):\n",
    "    return np.array ([row[i] for row in matrix])\n",
    "def class_wight(p):\n",
    "    k=[]\n",
    "    for i in range(len(p[0])):\n",
    "        k.append( p.mean()/column(p, i).mean() )\n",
    "    return np.array(k)\n",
    "\n",
    "p=model.predict(x_validation)\n",
    "p=np.array(p)\n",
    "wights=class_wight(p)\n",
    "wights"
   ]
  },
  {
   "cell_type": "markdown",
   "metadata": {},
   "source": [
    "Список признаков, которые будут использованы в модели"
   ]
  },
  {
   "cell_type": "markdown",
   "metadata": {},
   "source": [
    "Важность признаков"
   ]
  },
  {
   "cell_type": "code",
   "execution_count": 10,
   "metadata": {},
   "outputs": [
    {
     "ename": "AttributeError",
     "evalue": "'MultiOutputRegressor' object has no attribute 'feature_importances_'",
     "output_type": "error",
     "traceback": [
      "\u001b[1;31m---------------------------------------------------------------------------\u001b[0m",
      "\u001b[1;31mAttributeError\u001b[0m                            Traceback (most recent call last)",
      "\u001b[1;32m<ipython-input-10-d200c5accc2a>\u001b[0m in \u001b[0;36m<module>\u001b[1;34m()\u001b[0m\n\u001b[0;32m      5\u001b[0m     \u001b[0mdf_importances\u001b[0m \u001b[1;33m=\u001b[0m \u001b[0msorted\u001b[0m\u001b[1;33m(\u001b[0m\u001b[0mlist\u001b[0m\u001b[1;33m(\u001b[0m\u001b[0mzip\u001b[0m\u001b[1;33m(\u001b[0m\u001b[0mX\u001b[0m\u001b[1;33m.\u001b[0m\u001b[0mcolumns\u001b[0m\u001b[1;33m,\u001b[0m \u001b[0mmodel\u001b[0m\u001b[1;33m.\u001b[0m\u001b[0mcoef_\u001b[0m\u001b[1;33m.\u001b[0m\u001b[0mravel\u001b[0m\u001b[1;33m(\u001b[0m\u001b[1;33m)\u001b[0m\u001b[1;33m)\u001b[0m\u001b[1;33m)\u001b[0m\u001b[1;33m,\u001b[0m \u001b[0mkey\u001b[0m\u001b[1;33m=\u001b[0m\u001b[1;32mlambda\u001b[0m \u001b[0mtpl\u001b[0m\u001b[1;33m:\u001b[0m \u001b[0mtpl\u001b[0m\u001b[1;33m[\u001b[0m\u001b[1;36m1\u001b[0m\u001b[1;33m]\u001b[0m\u001b[1;33m,\u001b[0m \u001b[0mreverse\u001b[0m\u001b[1;33m=\u001b[0m\u001b[1;32mTrue\u001b[0m\u001b[1;33m)\u001b[0m\u001b[1;33m\u001b[0m\u001b[0m\n\u001b[0;32m      6\u001b[0m \u001b[1;32melse\u001b[0m\u001b[1;33m:\u001b[0m\u001b[1;33m\u001b[0m\u001b[0m\n\u001b[1;32m----> 7\u001b[1;33m     \u001b[0mdf_importances\u001b[0m\u001b[1;33m=\u001b[0m \u001b[0msorted\u001b[0m\u001b[1;33m(\u001b[0m\u001b[0mlist\u001b[0m\u001b[1;33m(\u001b[0m\u001b[0mzip\u001b[0m\u001b[1;33m(\u001b[0m\u001b[0mX\u001b[0m\u001b[1;33m.\u001b[0m\u001b[0mcolumns\u001b[0m\u001b[1;33m,\u001b[0m \u001b[0mnp\u001b[0m\u001b[1;33m.\u001b[0m\u001b[0marray\u001b[0m\u001b[1;33m(\u001b[0m\u001b[0mmodel\u001b[0m\u001b[1;33m.\u001b[0m\u001b[0mfeature_importances_\u001b[0m\u001b[1;33m)\u001b[0m\u001b[1;33m.\u001b[0m\u001b[0mravel\u001b[0m\u001b[1;33m(\u001b[0m\u001b[1;33m)\u001b[0m\u001b[1;33m)\u001b[0m\u001b[1;33m)\u001b[0m\u001b[1;33m,\u001b[0m \u001b[0mkey\u001b[0m\u001b[1;33m=\u001b[0m\u001b[1;32mlambda\u001b[0m \u001b[0mtpl\u001b[0m\u001b[1;33m:\u001b[0m \u001b[0mtpl\u001b[0m\u001b[1;33m[\u001b[0m\u001b[1;36m1\u001b[0m\u001b[1;33m]\u001b[0m\u001b[1;33m,\u001b[0m \u001b[0mreverse\u001b[0m\u001b[1;33m=\u001b[0m\u001b[1;32mTrue\u001b[0m\u001b[1;33m)\u001b[0m\u001b[1;33m\u001b[0m\u001b[0m\n\u001b[0m\u001b[0;32m      8\u001b[0m \u001b[0mdf_importances\u001b[0m \u001b[1;33m=\u001b[0m \u001b[0mpd\u001b[0m\u001b[1;33m.\u001b[0m\u001b[0mDataFrame\u001b[0m\u001b[1;33m(\u001b[0m\u001b[0mdf_importances\u001b[0m\u001b[1;33m,\u001b[0m \u001b[0mcolumns\u001b[0m\u001b[1;33m=\u001b[0m\u001b[1;33m[\u001b[0m\u001b[1;34m'feature'\u001b[0m\u001b[1;33m,\u001b[0m \u001b[1;34m'importance'\u001b[0m\u001b[1;33m]\u001b[0m\u001b[1;33m)\u001b[0m\u001b[1;33m\u001b[0m\u001b[0m\n\u001b[0;32m      9\u001b[0m \u001b[0mdf_importances\u001b[0m \u001b[1;33m=\u001b[0m \u001b[0mdf_importances\u001b[0m\u001b[1;33m.\u001b[0m\u001b[0mset_index\u001b[0m\u001b[1;33m(\u001b[0m\u001b[1;34m'feature'\u001b[0m\u001b[1;33m)\u001b[0m\u001b[1;33m\u001b[0m\u001b[0m\n",
      "\u001b[1;31mAttributeError\u001b[0m: 'MultiOutputRegressor' object has no attribute 'feature_importances_'"
     ]
    }
   ],
   "source": [
    "pd.options.mode.chained_assignment = None  # default='warn'\n",
    "\n",
    "import numpy as np\n",
    "if hasattr(model, 'coef_'):\n",
    "    df_importances = sorted(list(zip(X.columns, model.coef_.ravel())), key=lambda tpl: tpl[1], reverse=True)\n",
    "else:\n",
    "    df_importances= sorted(list(zip(X.columns, np.array(model.feature_importances_).ravel())), key=lambda tpl: tpl[1], reverse=True)\n",
    "df_importances = pd.DataFrame(df_importances, columns=['feature', 'importance'])\n",
    "df_importances = df_importances.set_index('feature')\n",
    "df_importances.plot(kind='bar', figsize=(15, 3))\n",
    "plt.show()\n",
    "display(df_importances)"
   ]
  },
  {
   "cell_type": "code",
   "execution_count": 45,
   "metadata": {},
   "outputs": [
    {
     "data": {
      "text/plain": [
       "2"
      ]
     },
     "execution_count": 45,
     "metadata": {},
     "output_type": "execute_result"
    }
   ],
   "source": [
    "def pred(x):\n",
    "    r=np.array ( model.predict(x) )\n",
    "    r=r*wights\n",
    "    r=r[0]\n",
    "    return ( np.where(r == r.max()) )[0][0]\n",
    "\n",
    "cont=[5, 7, 3, 5, 5, 4, 4 ,8, 3 ,3 ,3 ,3 ,3, 3, 3, 3, 3 ,3 ,3]\n",
    "m=[2, 1 ,1, 2, 1, 2, 3, 2, 2,  2, 2 ,2, 1, 2 , 2, 2 ,2,1,1]\n",
    "mat=np.array([])\n",
    "i=0\n",
    "for k in cont:\n",
    "    n=np.full((k), 0)\n",
    "    n[m[i]-1]=1\n",
    "    i+=1\n",
    "    mat = np.concatenate((mat, n))\n",
    "\n",
    "    \n",
    "mat=np.array(mat)\n",
    "mat1=mat.reshape(1,74 )\n",
    "\n",
    "pred(mat1)"
   ]
  },
  {
   "cell_type": "code",
   "execution_count": 48,
   "metadata": {},
   "outputs": [
    {
     "name": "stdout",
     "output_type": "stream",
     "text": [
      "(1, 74)\n",
      "[[1.]]\n"
     ]
    }
   ],
   "source": [
    "import numpy\n",
    "def pred(x):\n",
    "    model = joblib.load('model.pkl')\n",
    "    r = numpy.array(model.predict(x))\n",
    "    r = r * wights\n",
    "    r = r[0]\n",
    "    return (numpy.where(r == r.max()))[0][0]\n",
    "\n",
    "def predict(a):\n",
    "    cont = [5, 7, 3, 5, 5, 4, 4, 8, 3, 3, 3, 3, 3, 3, 3, 3, 3, 3, 3]\n",
    "\n",
    "    ar=[]\n",
    "    for i in range(len(a)):\n",
    "        ar.append(int(a[i]))\n",
    "    v = numpy.array(ar)\n",
    "    v = numpy.delete(v, [5, 8])\n",
    "\n",
    "    mat = numpy.array([])\n",
    "    i = 0\n",
    "    for k in cont:\n",
    "        n = numpy.full((k), 0)\n",
    "        n[v[i] - 1] = 1\n",
    "        i += 1\n",
    "        mat = numpy.concatenate((mat, n))\n",
    "\n",
    "    mat = numpy.array(mat)\n",
    "    mat = mat.reshape(1, 74)\n",
    "    print(mat.shape)\n",
    "\n",
    "    p=pred(mat)\n",
    "\n",
    "    #p - это наша категория\n",
    "    mod  = joblib.load('m'+str(p+1)+'.pkl')\n",
    "    pid=mod.predict(mat)\n",
    "    profession_name=config.pr[p][pid]\n",
    "\n",
    "    return profession_name\n",
    "\n",
    "print(predict('213221232221112111331'))"
   ]
  },
  {
   "cell_type": "code",
   "execution_count": 53,
   "metadata": {},
   "outputs": [],
   "source": [
    "\n",
    "import pickle\n",
    "with open('model.pkl', 'wb') as fout:\n",
    "    pickle.dump((model), fout)\n"
   ]
  },
  {
   "cell_type": "markdown",
   "metadata": {},
   "source": [
    "Конец"
   ]
  }
 ],
 "metadata": {
  "kernelspec": {
   "display_name": "Python 3",
   "language": "python",
   "name": "python3"
  },
  "language_info": {
   "codemirror_mode": {
    "name": "ipython",
    "version": 3
   },
   "file_extension": ".py",
   "mimetype": "text/x-python",
   "name": "python",
   "nbconvert_exporter": "python",
   "pygments_lexer": "ipython3",
   "version": "3.7.0"
  }
 },
 "nbformat": 4,
 "nbformat_minor": 2
}
